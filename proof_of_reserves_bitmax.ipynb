{
 "cells": [
  {
   "cell_type": "code",
   "execution_count": 1,
   "metadata": {},
   "outputs": [],
   "source": [
    "import yaml\n",
    "import requests\n",
    "from argparse import ArgumentParser\n",
    "import json\n",
    "import pandas as pd\n",
    "import random"
   ]
  },
  {
   "cell_type": "code",
   "execution_count": 2,
   "metadata": {},
   "outputs": [],
   "source": [
    "path = \"20230627-reserves-796140-20230627D100000108445000.yaml\"\n",
    "BASE_URL = 'https://blockstream.info/api/'"
   ]
  },
  {
   "cell_type": "code",
   "execution_count": 3,
   "metadata": {},
   "outputs": [],
   "source": [
    "# Read YAML file\n",
    "with open(path, 'r') as stream:\n",
    "    data_loaded = yaml.safe_load(stream)\n"
   ]
  },
  {
   "cell_type": "code",
   "execution_count": 4,
   "metadata": {},
   "outputs": [
    {
     "name": "stdout",
     "output_type": "stream",
     "text": [
      "(315516, 4)\n"
     ]
    },
    {
     "data": {
      "text/html": [
       "<div>\n",
       "<style scoped>\n",
       "    .dataframe tbody tr th:only-of-type {\n",
       "        vertical-align: middle;\n",
       "    }\n",
       "\n",
       "    .dataframe tbody tr th {\n",
       "        vertical-align: top;\n",
       "    }\n",
       "\n",
       "    .dataframe thead th {\n",
       "        text-align: right;\n",
       "    }\n",
       "</style>\n",
       "<table border=\"1\" class=\"dataframe\">\n",
       "  <thead>\n",
       "    <tr style=\"text-align: right;\">\n",
       "      <th></th>\n",
       "      <th>addr_type</th>\n",
       "      <th>addr</th>\n",
       "      <th>script</th>\n",
       "      <th>balance</th>\n",
       "    </tr>\n",
       "  </thead>\n",
       "  <tbody>\n",
       "    <tr>\n",
       "      <td>0</td>\n",
       "      <td>sh</td>\n",
       "      <td>3BMEXbSSrK2K7cRgqxrtqUWfxowBBrW1BE</td>\n",
       "      <td>534104220936c3245597b1513a9a7fe96d96facf1a840e...</td>\n",
       "      <td>171258</td>\n",
       "    </tr>\n",
       "    <tr>\n",
       "      <td>1</td>\n",
       "      <td>sh</td>\n",
       "      <td>3BMEX95VgAacEZRJksocYrPzJ328pcSFXG</td>\n",
       "      <td>534104220936c3245597b1513a9a7fe96d96facf1a840e...</td>\n",
       "      <td>830323</td>\n",
       "    </tr>\n",
       "    <tr>\n",
       "      <td>2</td>\n",
       "      <td>sh</td>\n",
       "      <td>3BMEXZXWZ2cZ7yS7UBkPNf1dRFRqPzV1xw</td>\n",
       "      <td>53410417db3fdd2f40aa63f68ad8db4bcb5a82037db40b...</td>\n",
       "      <td>1910899</td>\n",
       "    </tr>\n",
       "    <tr>\n",
       "      <td>3</td>\n",
       "      <td>sh</td>\n",
       "      <td>3BitMEXjLgKQHNMUsnmdbiVb462EP8jxi5</td>\n",
       "      <td>534104220936c3245597b1513a9a7fe96d96facf1a840e...</td>\n",
       "      <td>8622</td>\n",
       "    </tr>\n",
       "    <tr>\n",
       "      <td>4</td>\n",
       "      <td>sh</td>\n",
       "      <td>3BMEXf5prg81PF9Aj1eR5SLcrtZGw4kHah</td>\n",
       "      <td>534104220936c3245597b1513a9a7fe96d96facf1a840e...</td>\n",
       "      <td>300000</td>\n",
       "    </tr>\n",
       "  </tbody>\n",
       "</table>\n",
       "</div>"
      ],
      "text/plain": [
       "  addr_type                                addr  \\\n",
       "0        sh  3BMEXbSSrK2K7cRgqxrtqUWfxowBBrW1BE   \n",
       "1        sh  3BMEX95VgAacEZRJksocYrPzJ328pcSFXG   \n",
       "2        sh  3BMEXZXWZ2cZ7yS7UBkPNf1dRFRqPzV1xw   \n",
       "3        sh  3BitMEXjLgKQHNMUsnmdbiVb462EP8jxi5   \n",
       "4        sh  3BMEXf5prg81PF9Aj1eR5SLcrtZGw4kHah   \n",
       "\n",
       "                                              script  balance  \n",
       "0  534104220936c3245597b1513a9a7fe96d96facf1a840e...   171258  \n",
       "1  534104220936c3245597b1513a9a7fe96d96facf1a840e...   830323  \n",
       "2  53410417db3fdd2f40aa63f68ad8db4bcb5a82037db40b...  1910899  \n",
       "3  534104220936c3245597b1513a9a7fe96d96facf1a840e...     8622  \n",
       "4  534104220936c3245597b1513a9a7fe96d96facf1a840e...   300000  "
      ]
     },
     "execution_count": 4,
     "metadata": {},
     "output_type": "execute_result"
    }
   ],
   "source": [
    "df = pd.DataFrame(data_loaded['address'])\n",
    "print(df.shape)\n",
    "df.head()"
   ]
  },
  {
   "cell_type": "code",
   "execution_count": 5,
   "metadata": {},
   "outputs": [],
   "source": [
    "def get_address_info(address):\n",
    "    # return info about address a\n",
    "    url = BASE_URL + 'address/' + str(address)\n",
    "    r = requests.get(url)\n",
    "    d = json.loads(r.text)\n",
    "    return d\n",
    "\n",
    "def get_address_txs(address):\n",
    "    txs = []\n",
    "    # return list txs of all transactions for address\n",
    "    # if a has more than 25 txs, we need to fetch all of them\n",
    "\n",
    "    #################################\n",
    "\n",
    "    # Implement this part\n",
    "\n",
    "    url = BASE_URL + 'address/' + str(address) + '/txs/chain'\n",
    "    r = requests.get(url)\n",
    "    d = json.loads(r.text)\n",
    "    lastLen = len(d)\n",
    "    txs.extend(d)\n",
    "\n",
    "    while lastLen == 25:\n",
    "        url = BASE_URL + 'address/' + str(address) + '/txs/chain/' + d[24][\"txid\"]\n",
    "        r = requests.get(url)\n",
    "        d = json.loads(r.text)\n",
    "        lastLen = len(d)\n",
    "        txs.extend(d)\n",
    "\n",
    "    #################################\n",
    "\n",
    "    return txs"
   ]
  },
  {
   "cell_type": "code",
   "execution_count": 13,
   "metadata": {},
   "outputs": [
    {
     "name": "stdout",
     "output_type": "stream",
     "text": [
      "[146102, 301095, 177735, 158084, 224561, 143248, 278748, 310124, 74945, 293446]\n",
      "Compared 1640121 (given) with 1640121 (true)\n",
      "Compared 2270174 (given) with 2270174 (true)\n",
      "Compared 582635 (given) with 582635 (true)\n",
      "Compared 2814433 (given) with 2814433 (true)\n",
      "Compared 1450000 (given) with 1450000 (true)\n",
      "Compared 437131 (given) with 437131 (true)\n",
      "Compared 1012441753 (given) with 1012441753 (true)\n",
      "Compared 30000 (given) with 30000 (true)\n",
      "Compared 1100000 (given) with 1100000 (true)\n",
      "Compared 2891963 (given) with 2891963 (true)\n",
      "Done!\n"
     ]
    }
   ],
   "source": [
    "index_list = random.sample(range(df.shape[0]), 10)\n",
    "print(index_list)\n",
    "\n",
    "for index in index_list:\n",
    "    addr = df[\"addr\"].iloc[index]\n",
    "    given_balance = df[\"balance\"].iloc[index]\n",
    "\n",
    "    addr_info = get_address_info(addr)\n",
    "    addr_txs = get_address_txs(addr)\n",
    "\n",
    "    results = dict()\n",
    "    results['satoshi_in'] = addr_info[\"chain_stats\"][\"funded_txo_sum\"]\n",
    "    results['satoshi_out'] = addr_info[\"chain_stats\"][\"spent_txo_sum\"]\n",
    "    results['balance'] = addr_info[\"chain_stats\"][\"funded_txo_sum\"] - addr_info[\"chain_stats\"][\"spent_txo_sum\"]\n",
    "    results['fees'] = sum(d['fee'] for d in addr_txs)\n",
    "    results['b_in_first'] = 0\n",
    "    results['b_out_first'] = 0\n",
    "    results['n_neighbours_in'] = 0\n",
    "    results['n_neighbours_out'] = 0\n",
    "    \n",
    "    '''\n",
    "    txs = addr_txs\n",
    "\n",
    "    if len(txs) > 0:\n",
    "\n",
    "        recvs  = []\n",
    "        sends = []\n",
    "\n",
    "        first_recv = txs[0][\"status\"][\"block_height\"]\n",
    "        first_sent = txs[0][\"status\"][\"block_height\"]\n",
    "\n",
    "        for tx in txs:\n",
    "            recvs_temp = []\n",
    "            sends_temp = []\n",
    "\n",
    "            for recv in tx[\"vin\"]:\n",
    "                if recv[\"prevout\"][\"value\"] > 0 and \"scriptpubkey_address\" in recv[\"prevout\"].keys():\n",
    "                    recvs_temp.append(recv[\"prevout\"][\"scriptpubkey_address\"])\n",
    "            for send in tx[\"vout\"]:\n",
    "                if send[\"value\"] > 0 and \"scriptpubkey_address\" in send.keys():\n",
    "                    sends_temp.append(send[\"scriptpubkey_address\"])\n",
    "\n",
    "            # address has received when in sends and vice versa!\n",
    "            if addr in recvs_temp:\n",
    "                if first_sent > tx[\"status\"][\"block_height\"]:\n",
    "                    first_sent = tx[\"status\"][\"block_height\"]\n",
    "                sends.extend(sends_temp)\n",
    "            if addr in sends_temp:\n",
    "                if first_recv > tx[\"status\"][\"block_height\"]:\n",
    "                    first_recv = tx[\"status\"][\"block_height\"]\n",
    "                recvs.extend(recvs_temp)\n",
    "\n",
    "        # again addresses that recv\n",
    "        results['b_in_first'] = first_recv\n",
    "        results['b_out_first'] = first_sent\n",
    "        results['n_neighbours_in'] = len(list(set(recvs)))\n",
    "        results['n_neighbours_out'] = len(list(set(sends)))\n",
    "        \n",
    "    #true_balance = results['b_in_first'] - results['b_out_first']\n",
    "    '''\n",
    "    \n",
    "    true_balance = results['balance']\n",
    "    \n",
    "    #if(float(given_balance) != float(true_balance)):\n",
    "    #    print(df.iloc[index])\n",
    "    print(\"Compared \"+str(given_balance)+\" (given) with \"+str(true_balance)+\" (true)\")\n",
    "print(\"Done!\")"
   ]
  },
  {
   "cell_type": "code",
   "execution_count": 35,
   "metadata": {},
   "outputs": [
    {
     "data": {
      "text/plain": [
       "'bc1qmexyjccpv8vmujvxlcxgrwn8kcl9uptc8nsdshjgmwnhv5ny235sctxj34'"
      ]
     },
     "execution_count": 35,
     "metadata": {},
     "output_type": "execute_result"
    }
   ],
   "source": [
    "df[\"addr\"].iloc[294544]"
   ]
  },
  {
   "cell_type": "code",
   "execution_count": null,
   "metadata": {},
   "outputs": [],
   "source": []
  }
 ],
 "metadata": {
  "kernelspec": {
   "display_name": "Python 3",
   "language": "python",
   "name": "python3"
  },
  "language_info": {
   "codemirror_mode": {
    "name": "ipython",
    "version": 3
   },
   "file_extension": ".py",
   "mimetype": "text/x-python",
   "name": "python",
   "nbconvert_exporter": "python",
   "pygments_lexer": "ipython3",
   "version": "3.6.10"
  }
 },
 "nbformat": 4,
 "nbformat_minor": 2
}
